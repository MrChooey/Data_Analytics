{
 "cells": [
  {
   "cell_type": "markdown",
   "metadata": {},
   "source": []
  },
  {
   "cell_type": "markdown",
   "metadata": {},
   "source": [
    "Ramas, Ron Patrick G. - 23102078\n",
    "\n",
    "# **Assignment in Discrete Mathematics 2**\n",
    "\n",
    "---\n",
    "\n",
    "### **Horizontal Stacked Bar Plot**"
   ]
  },
  {
   "cell_type": "code",
   "execution_count": null,
   "metadata": {},
   "outputs": [
    {
     "data": {
      "image/png": "[encoded data removed]",
      "text/plain": [
       "<Figure size 640x480 with 1 Axes>"
      ]
     },
     "metadata": {},
     "output_type": "display_data"
    }
   ],
   "source": [
    "import pandas as pd\n",
    "import matplotlib.pyplot as plt\n",
    "\n",
    "labels = [\"D\", \"D\", \"D\", \"D\", \"F\", \"F\", \"F\", \"F\", \"I\", \"N\", \"N\", \"N\", \"S\", \"S\", \"S\", \"S\", \"S\", \"S\", \"S\", \"S\", \"S\", \"S\"]\n",
    "counts = [1, 1, 0, 1, 1, 1, 0, 0, 1, 1, 1, 0, 1, 0, 1, 1, 1, 0, 0, 0, 1, 0]\n",
    "\n",
    "data = pd.DataFrame({\"Label\": labels, \"Count\": counts})\n",
    "data[\"Count\"] = data[\"Count\"].map({1: \"Yes\", 0: \"No\"})\n",
    "\n",
    "plot_data = data.groupby([\"Label\", \"Count\"]).size().unstack(fill_value=0)\n",
    "\n",
    "plot_data.plot(kind=\"barh\", stacked=True, color=[\"red\", \"blue\"])\n",
    "plt.xlabel(\"Count\")\n",
    "plt.ylabel(\"Label\")\n",
    "plt.title(\"Stacked Horizontal Bar Chart\")\n",
    "plt.legend(title=\"Label\")\n",
    "plt.show()"
   ]
  },
  {
   "cell_type": "markdown",
   "metadata": {},
   "source": [
    "## **Sankey Plot**\n",
    "\n",
    "---"
   ]
  },
  {
   "cell_type": "code",
   "execution_count": null,
   "metadata": {},
   "outputs": [],
   "source": [
    "import plotly.graph_objects as go\n",
    "\n",
    "labels = ['PS', 'OMP', 'CNP', 'NRP', 'NMCCC', 'PEC', 'NCDM', 'RGS', \n",
    "          'S', 'F', 'D', 'N', 'I', 'Reg', 'Aca', 'Oth']\n",
    "\n",
    "colors = ['#636EFA', '#EF553B', '#00CC96', '#AB63FA', '#FFA15A', '#19D3F3', '#FF6692', '#B6E880',\n",
    "          '#636EFA', '#EF553B', '#00CC96', '#AB63FA', '#FFA15A', '#FFD700', '#8A2BE2', '#FF4500']\n",
    "\n",
    "sources = [0, 1, 2, 3, 4, 5, 6, 7,\n",
    "           0, 1, 2, 3, 4, 5, 6, 7,  \n",
    "           0, 1, 2, 3, 4, 5, 6, 7,  \n",
    "           0, 1, 2, 3, 4, 5, 6, 7,  \n",
    "           0, 1, 2, 3, 4, 5, 6, 7]  \n",
    "\n",
    "targets = [8, 8, 8, 8, 8, 8, 8, 8,\n",
    "           9, 9, 9, 9, 9, 9, 9, 9,\n",
    "           10, 10, 10, 10, 10, 10, 10, 10,\n",
    "           11, 11, 11, 11, 11, 11, 11, 11,\n",
    "           12, 12, 12, 12, 12, 12, 12, 12]\n",
    "\n",
    "values = [3, 4, 1, 1, 0, 0, 1, 1,\n",
    "          0, 1, 2, 1, 0, 0, 0, 0,\n",
    "          1, 1, 2, 0, 0, 0, 0, 0,\n",
    "          1, 1, 1, 1, 0, 0, 1, 1,\n",
    "          0, 1, 0, 0, 0, 0, 0, 0]\n",
    "\n",
    "sources += [8, 8, 8, 9, 9, 9, 10, 10, 10, 11, 11, 11, 12, 12, 12]\n",
    "targets += [13, 14, 15, 13, 14, 15, 13, 14, 15, 13, 14, 15, 13, 14, 15]\n",
    "values += [2, 7, 1, 1, 2, 0, 1, 3, 1, 2, 2, 1, 0, 1, 0]\n",
    "\n",
    "link_colors = [colors[src] for src in sources]\n",
    "\n",
    "fig = go.Figure(go.Sankey(\n",
    "    node=dict(\n",
    "        pad=15,\n",
    "        thickness=20,\n",
    "        line=dict(color=\"black\", width=0.5),\n",
    "        label=labels,\n",
    "        color=colors\n",
    "    ),\n",
    "    link=dict(\n",
    "        source=sources,\n",
    "        target=targets,\n",
    "        value=values,\n",
    "        color=link_colors\n",
    "    )\n",
    "))\n",
    "\n",
    "fig.update_layout(title_text=\"Sankey Diagram\", font_size=10)\n",
    "\n",
    "from IPython.display import display\n",
    "from PIL import Image\n",
    "\n",
    "img = Image.open(\"newplot.png\")\n",
    "display(img)"
   ]
  }
 ],
 "metadata": {
  "kernelspec": {
   "display_name": "Python 3",
   "language": "python",
   "name": "python3"
  },
  "language_info": {
   "codemirror_mode": {
    "name": "ipython",
    "version": 3
   },
   "file_extension": ".py",
   "mimetype": "text/x-python",
   "name": "python",
   "nbconvert_exporter": "python",
   "pygments_lexer": "ipython3",
   "version": "3.11.9"
  }
 },
 "nbformat": 4,
 "nbformat_minor": 2
}
